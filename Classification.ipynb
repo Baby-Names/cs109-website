{
 "cells": [
  {
   "cell_type": "code",
   "execution_count": 29,
   "metadata": {
    "collapsed": false
   },
   "outputs": [],
   "source": [
    "import numpy as np\n",
    "import statsmodels.formula.api as smf\n",
    "from numpy.linalg import inv\n",
    "import pandas as pd\n",
    "from sklearn.linear_model import LinearRegression as Lin_Reg\n",
    "from sklearn.linear_model import Ridge as Ridge_Reg\n",
    "from sklearn.linear_model import Lasso as Lasso_Reg\n",
    "from sklearn.linear_model import LogisticRegression as Log_Reg\n",
    "from statsmodels.regression.linear_model import OLS\n",
    "from sklearn.cluster import KMeans\n",
    "import sklearn.preprocessing as Preprocessing\n",
    "from sklearn.preprocessing import StandardScaler as Standardize\n",
    "import itertools as it\n",
    "import matplotlib\n",
    "import matplotlib.pyplot as plt\n",
    "import matplotlib.cm as cmx\n",
    "import matplotlib.colors as colors\n",
    "import scipy as sp\n",
    "from itertools import combinations\n",
    "%matplotlib inline"
   ]
  },
  {
   "cell_type": "markdown",
   "metadata": {},
   "source": [
    "# Modeling: \n",
    "<span style='Color:purple'> Now, that we have two clean datasets, we can start the modeling. </span>"
   ]
  },
  {
   "cell_type": "markdown",
   "metadata": {},
   "source": [
    "## Uploading Data\n",
    "<span style='Color:purple'> Let's upload our datasets and merge them: </span>"
   ]
  },
  {
   "cell_type": "code",
   "execution_count": 2,
   "metadata": {
    "collapsed": false
   },
   "outputs": [],
   "source": [
    "#Import data\n",
    "election_data_all = pd.read_csv('election_data.csv')\n",
    "\n",
    "#Create a column with elkection year\n",
    "election_data_all['RaceYear'] = pd.Series(map(lambda x : int(str(x)[:4]), list(election_data_all['RaceDate'])))"
   ]
  },
  {
   "cell_type": "markdown",
   "metadata": {},
   "source": [
    "<span style='Color:purple'> We choose to keep the election year and the republican Major % vote and state. The republican % major vote is chosen as a proxy becaut it does not tske into account third parties or independent candidates. </span>"
   ]
  },
  {
   "cell_type": "code",
   "execution_count": 3,
   "metadata": {
    "collapsed": false
   },
   "outputs": [],
   "source": [
    "election_data = election_data_all[['RaceYear', 'Area', 'RepVotesMajorPercent']]"
   ]
  },
  {
   "cell_type": "code",
   "execution_count": 4,
   "metadata": {
    "collapsed": false
   },
   "outputs": [
    {
     "data": {
      "text/plain": [
       "array([1956, 1960, 1964, 1968, 1972, 1976, 1980, 1984, 1988, 1992, 1996,\n",
       "       2000, 2004, 2008, 2012])"
      ]
     },
     "execution_count": 4,
     "metadata": {},
     "output_type": "execute_result"
    }
   ],
   "source": [
    "election_data['RaceYear'].unique()"
   ]
  },
  {
   "cell_type": "code",
   "execution_count": 5,
   "metadata": {
    "collapsed": false
   },
   "outputs": [],
   "source": [
    "#Import yearly name pca for each state and concatenate\n",
    "names_pca_states = pd.DataFrame()\n",
    "for year in xrange(1910, 2013):\n",
    "    dataframe = pd.read_csv('matrices_and_pca/%d_data_pca.csv' % year)\n",
    "    dataframe.columns = [('%d_PCA1' % year),('%d_PCA2' % year)]\n",
    "    names_pca_states = pd.concat([names_pca_states, dataframe], axis=1)"
   ]
  },
  {
   "cell_type": "code",
   "execution_count": 6,
   "metadata": {
    "collapsed": false
   },
   "outputs": [],
   "source": [
    "#Map states in both files before merging\n",
    "original_pairs = pd.read_csv('us_states_reordered.csv',header=None)\n",
    "del original_pairs[2]\n",
    "\n",
    "original_pairs.columns = ['Name','Abb']\n",
    "my_dict = original_pairs.set_index('Name')['Abb'].to_dict()\n",
    "\n",
    "election_data = election_data.replace({\"Area\":my_dict})\n",
    "\n",
    "names_pca_states.index = original_pairs.Abb.values"
   ]
  },
  {
   "cell_type": "markdown",
   "metadata": {},
   "source": [
    "<span style='Color:purple'> A way to look at this is for each election look at teh relationship between the % of biblical names in the years all the range of the voters (18-75) can predict the political vote. Since we only have baby names from 1910, for this analysis we can only look at elections 1988 onwards. </span>"
   ]
  },
  {
   "cell_type": "code",
   "execution_count": 7,
   "metadata": {
    "collapsed": false,
    "scrolled": false
   },
   "outputs": [],
   "source": [
    "#Merge datasets\n",
    "election_names_states = election_data[election_data['RaceYear'] >= 1988]"
   ]
  },
  {
   "cell_type": "code",
   "execution_count": 8,
   "metadata": {
    "collapsed": false
   },
   "outputs": [],
   "source": [
    "#Merge datasets\n",
    "election_names_states = election_data[election_data['RaceYear'] >= 1988]\n",
    "holder = []\n",
    "ctr = 0 \n",
    "for key,grp in election_names_states.groupby('RaceYear'):\n",
    "\n",
    "    tmp_votes = grp\n",
    "    tmp_votes.index = grp.Area\n",
    "\n",
    "    year_min=int(key)-75\n",
    "    year_max = int(key)-18\n",
    "\n",
    "    tmp_vals = names_pca_states.ix[:,('%d_PCA1' % year_min) : ('%d_PCA2' % year_max)]\n",
    "    tmp_vals = tmp_vals.merge(tmp_votes, left_index=True, right_index=True)\n",
    "    tmp_vals.columns= range(0,len(tmp_vals.columns))\n",
    "\n",
    "    if (ctr ==0):\n",
    "        master_df=tmp_vals\n",
    "        ctr = ctr+1\n",
    "    else:\n",
    "        frms = [master_df,tmp_vals]\n",
    "        master_df = pd.concat(frms)\n",
    "\n",
    "master_df = master_df.rename(columns={116:'year', 117:'state', 118 : 'y'})\n",
    "t = master_df['y'] >= 50\n",
    "master_df['t'] = t\n"
   ]
  },
  {
   "cell_type": "code",
   "execution_count": 9,
   "metadata": {
    "collapsed": false
   },
   "outputs": [],
   "source": [
    "#Assign x and y \n",
    "y = master_df['y']\n",
    "x = master_df[range(0,116)]"
   ]
  },
  {
   "cell_type": "code",
   "execution_count": 10,
   "metadata": {
    "collapsed": false
   },
   "outputs": [],
   "source": [
    "# ### Step-wise Forward Selection\n",
    "# d = x.shape[1] # total no. of predictors\n",
    "\n",
    "# # Keep track of current set of chosen predictors, and the remaining set of predictors\n",
    "# current_predictors = [] \n",
    "# remaining_predictors = range(d)\n",
    "\n",
    "# # Set some initial large value for min BIC score for all possible subsets\n",
    "# global_min_bic = 1e10 \n",
    "\n",
    "# # Keep track of the best subset of predictors\n",
    "# best_subset = [] \n",
    "\n",
    "# # Iterate over all possible subset sizes, 0 predictors to d predictors\n",
    "# for size in range(d):    \n",
    "#     max_r_squared = -1e10 # set some initial small value for max R^2\n",
    "#     best_predictor = -1 # set some throwaway initial number for the best predictor to add\n",
    "#     bic_with_best_predictor = 1e10 # set some initial large value for BIC score   \n",
    "        \n",
    "#     # Iterate over all remaining predictors to find best predictor to add\n",
    "#     for i in remaining_predictors:\n",
    "#         # Make copy of current set of predictors\n",
    "#         temp = current_predictors[:]\n",
    "        \n",
    "#         # Add predictor 'i'\n",
    "#         temp.append(i)\n",
    "        \n",
    "#         # Use only a subset of predictors in the training data\n",
    "#         x_subset = x[:, temp]\n",
    "#         # Add a column of ones\n",
    "#         x_subset = np.hstack((x_subset, np.ones((x_subset.shape[0], 1))))\n",
    "        \n",
    "#         # Fit and evaluate R^2\n",
    "#         model = OLS(y, x_subset)\n",
    "#         results = model.fit()\n",
    "#         r_squared = results.rsquared\n",
    "        \n",
    "#         # Check if we get a higher R^2 value than than current max R^2, if so, update\n",
    "#         if(r_squared > max_r_squared):\n",
    "#             max_r_squared = r_squared\n",
    "#             best_predictor = i\n",
    "#             bic_with_best_predictor = results.bic\n",
    "    \n",
    "#     # Remove best predictor from remaining list, and add best predictor to current list\n",
    "#     remaining_predictors.remove(best_predictor)\n",
    "#     current_predictors.append(best_predictor)\n",
    "    \n",
    "#     # Check if BIC for with the predictor we just added is lower than \n",
    "#     # the global minimum across all subset of predictors\n",
    "#     if(bic_with_best_predictor < global_min_bic):\n",
    "#         best_subset = current_predictors[:]\n",
    "#         global_min_bic = bic_with_best_predictor\n",
    "    \n",
    "# print 'Step-wise forward subset selection:'\n",
    "# print sorted(best_subset) # add 1 as indices start from 0"
   ]
  },
  {
   "cell_type": "code",
   "execution_count": 11,
   "metadata": {
    "collapsed": false
   },
   "outputs": [
    {
     "name": "stdout",
     "output_type": "stream",
     "text": [
      "Lasso score is : 0.252190723433\n"
     ]
    }
   ],
   "source": [
    "# Lasso regression\n",
    "lasso_reg = Lasso_Reg(alpha = 0.01)\n",
    "lasso_reg.fit(x, y)\n",
    "score_lasso = lasso_reg.score(x,y)\n",
    "\n",
    "print 'Lasso score is :', score_lasso"
   ]
  },
  {
   "cell_type": "code",
   "execution_count": 12,
   "metadata": {
    "collapsed": false
   },
   "outputs": [
    {
     "name": "stdout",
     "output_type": "stream",
     "text": [
      "Ridge score is : 0.0118787512603\n"
     ]
    }
   ],
   "source": [
    "# Standardize data\n",
    "x_std = Standardize(with_mean=False).fit_transform(x)\n",
    "\n",
    "# Ridge regression: Fit and evaluate \n",
    "ridge_reg = Ridge_Reg(alpha = 0.01)\n",
    "ridge_reg.fit(x_std, y)\n",
    "score_ridge = ridge_reg.score(x,y)\n",
    "\n",
    "print 'Ridge score is :', score_ridge"
   ]
  },
  {
   "cell_type": "code",
   "execution_count": 13,
   "metadata": {
    "collapsed": true
   },
   "outputs": [],
   "source": [
    "# # Rewrite with MSE instead of R-squared\n",
    "# # (as the labels have a lot of zeros, hence r_squared can blow up)\n",
    "# def k_fold_perf_mse(x, y, n_folds, param_val):\n",
    "#     n_train = np.shape(x_train)[0]\n",
    "#     n = int(np.round(n_train * 1. / n_folds)) # points per fold\n",
    "    \n",
    "#     # Iterate over folds\n",
    "#     cv_mse = 0\n",
    "#     for fold in range(1, n_folds + 1):\n",
    "#         x_train_cv = np.concatenate((x_train[:n * (fold - 1), :], x_train[n * fold + 1:, :]), axis=0)\n",
    "#         y_train_cv = np.concatenate((y_train[:n * (fold - 1)], y_train[n * fold + 1:]), axis=0)\n",
    "\n",
    "#         x_test_cv = x_train[1 + n * (fold - 1):n * fold, :]\n",
    "#         y_test_cv = y_train[1 + n * (fold - 1):n * fold]\n",
    "\n",
    "#         # Fit ridge regression model with parameter value on CV train set\n",
    "#         reg = Ridge_Reg(alpha = param_val)\n",
    "#         reg.fit(x_train_cv, y_train_cv)\n",
    "        \n",
    "#         # Evaluate mean squared error of model on CV test set\n",
    "#         y_pred_cv = reg.predict(x_test_cv)\n",
    "#         mse = np.mean(np.square(y_test_cv - y_pred_cv))\n",
    "\n",
    "#         cv_mse += mse\n",
    "\n",
    "#     return cv_mse * 1.0 / n_folds\n",
    "\n",
    "\n",
    "# # CV to tune parameter in Ridge regression\n",
    "# min_mse = 1e10 # some high value\n",
    "# min_param = -1\n",
    "\n",
    "# for power_of_10 in range(-7, 7):\n",
    "#     cv_mse = k_fold_perf_mse(x, y, 5, 10.0**power_of_10)\n",
    "    \n",
    "#     if(cv_mse < min_mse):\n",
    "#         min_mse = cv_mse\n",
    "#         min_param = 10**power_of_10\n",
    "    \n",
    "# # Fit regression model with opt parameter on train set\n",
    "# reg = Ridge_Reg(alpha = min_param)\n",
    "# reg.fit(x_train, y_train)\n",
    "\n",
    "# # Evaluate R-squared on train and test sets\n",
    "# train_r_squared = reg.score(x_train, y_train)\n",
    "# test_r_squared = reg.score(x_test, y_test)\n",
    "\n",
    "# print 'Ridge regression'\n",
    "\n",
    "# print \"Train R-squared:\", train_r_squared \n",
    "# print \"Test R-squared:\", test_r_squared\n",
    "\n",
    "# # Evaluate profit on test set\n",
    "# y_pred = reg.predict(x_test)\n",
    "\n",
    "# doners = (y_pred - cost_per_donor) > 0\n",
    "# profit = (y_test[doners] - cost_per_donor).sum()\n",
    "\n",
    "# print \"Total donations:\", profit"
   ]
  },
  {
   "cell_type": "code",
   "execution_count": 14,
   "metadata": {
    "collapsed": true
   },
   "outputs": [],
   "source": [
    "#from http://planspace.org/20150423-forward_selection_with_statsmodels/\n",
    "def forward_selected(data, response):\n",
    "    \"\"\"Linear model designed by forward selection.\n",
    "\n",
    "    Parameters:\n",
    "    -----------\n",
    "    data : pandas DataFrame with all possible predictors and response\n",
    "\n",
    "    response: string, name of response column in data\n",
    "\n",
    "    Returns:\n",
    "    --------\n",
    "    model: an \"optimal\" fitted statsmodels linear model\n",
    "           with an intercept\n",
    "           selected by forward selection\n",
    "           evaluated by adjusted R-squared\n",
    "    \"\"\"\n",
    "    remaining = set(data.columns)\n",
    "    remaining.remove('y')\n",
    "    remaining.remove('t')\n",
    "    remaining.remove('year')\n",
    "    remaining.remove('state')\n",
    "    selected = []\n",
    "    current_score, best_new_score = 0.0, 0.0\n",
    "    while remaining and current_score == best_new_score:\n",
    "        scores_with_candidates = []\n",
    "        for candidate in remaining:\n",
    "            formula = \"{} ~ {} + 1\".format(response,\n",
    "                                           ' + '.join(selected + [candidate]))\n",
    "            score = smf.ols(formula, data).fit().rsquared_adj\n",
    "            scores_with_candidates.append((score, candidate))\n",
    "        scores_with_candidates.sort()\n",
    "        best_new_score, best_candidate = scores_with_candidates.pop()\n",
    "        if current_score < best_new_score:\n",
    "            remaining.remove(best_candidate)\n",
    "            selected.append(best_candidate)\n",
    "            current_score = best_new_score\n",
    "    formula = \"{} ~ {} + 1\".format(response,\n",
    "                                   ' + '.join(selected))\n",
    "    model = smf.ols(formula, data).fit()\n",
    "    return model"
   ]
  },
  {
   "cell_type": "code",
   "execution_count": 15,
   "metadata": {
    "collapsed": false
   },
   "outputs": [
    {
     "name": "stdout",
     "output_type": "stream",
     "text": [
      "y ~ x64 + x112 + x17 + x2 + x71 + x98 + x61 + x77 + x50 + x74 + x105 + x59 + x7 + x13 + x33 + x29 + x51 + x100 + x41 + x21 + x65 + x30 + x26 + x37 + x45 + x9 + x10 + x91 + x36 + x46 + x35 + x75 + x53 + x93 + x54 + x22 + x6 + x69 + x78 + x25 + x114 + x90 + x80 + x82 + x70 + x73 + x38 + x113 + 1\n",
      "0.522726389863\n"
     ]
    }
   ],
   "source": [
    "#from http://planspace.org/20150423-forward_selection_with_statsmodels/\n",
    "\n",
    "master_df.columns = map(lambda x : 'x' + str(x) if type(x) != str else x, master_df.columns)\n",
    "model = forward_selected(master_df, 'y')\n",
    "\n",
    "print model.model.formula\n",
    "\n",
    "print model.rsquared_adj"
   ]
  },
  {
   "cell_type": "code",
   "execution_count": 58,
   "metadata": {
    "collapsed": false
   },
   "outputs": [
    {
     "name": "stdout",
     "output_type": "stream",
     "text": [
      "0.0671273487026\n"
     ]
    }
   ],
   "source": [
    "pred_cols = model.model.formula.split(' + ')[1:-1]\n",
    "\n",
    "X = master_df[pred_cols]\n",
    "t = master_df['t']\n",
    "\n",
    "print Ridge_Reg().fit(X, y).score(X, y)"
   ]
  },
  {
   "cell_type": "code",
   "execution_count": null,
   "metadata": {
    "collapsed": true
   },
   "outputs": [],
   "source": []
  }
 ],
 "metadata": {
  "anaconda-cloud": {},
  "kernelspec": {
   "display_name": "Python [conda root]",
   "language": "python",
   "name": "conda-root-py"
  },
  "language_info": {
   "codemirror_mode": {
    "name": "ipython",
    "version": 2
   },
   "file_extension": ".py",
   "mimetype": "text/x-python",
   "name": "python",
   "nbconvert_exporter": "python",
   "pygments_lexer": "ipython2",
   "version": "2.7.9"
  }
 },
 "nbformat": 4,
 "nbformat_minor": 0
}
