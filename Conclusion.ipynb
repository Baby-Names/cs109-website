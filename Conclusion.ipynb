{
 "cells": [
  {
   "cell_type": "markdown",
   "metadata": {},
   "source": [
    "# Conclusion:\n",
    "\n",
    "- We found that while biblical names have historically been the most common in the United States, their popularity is steadily declining.However, it appears that they may still be good markers for religiosity, though they greatly under represent the percentage of Americans that are religious. We initially hypothesized that parents who name their children in the religious tradition would be smaller, but more devout subset of the population, and should be more likely to attend church regularly. However,  further exploration of the relationship between church attendance and proportion of biblical naming by year shows no association. \n",
    "- Models built using naming as predictors had mostly low accuracy. OSL with forward selection of features yielded the highest accuracy (R^2 = 0.52), though we believe the model is overfitted. We did not find a significant relationship between incidence of biblical names and votes for Republican presidential candidates once the children grew to adulthood (18-75) at the state level. There is a moderate relationship between biblical naming and voting in the same year in some conservative states, but there are many unrelated factors (say population density) that could contribute to this relationship.\n",
    "- It’s likely that there is no informative relationship between incidence of biblical names and election voting. However, our models are still in their early stages and only look at correlations. Further investigation is needed to conclude that incidence of baby names does not have a significant relationship with presidential electoral voting.\n"
   ]
  },
  {
   "cell_type": "markdown",
   "metadata": {},
   "source": [
    "# Future Directions\n",
    "- Explore more classification models.\n",
    "- Incorporate biblical names in other languages (ex. Maria vs Mary).\n",
    "- Try to control for confounding factors like population density, income, race and education.\n",
    "- Evaluate naming as a marker of more specific political beliefs (ex. abortion or gun control), which we believe may have a more direct relationship to religious identification"
   ]
  },
  {
   "cell_type": "markdown",
   "metadata": {},
   "source": [
    "# References\n",
    "1. Layman, G. C. (1997). Religion and political behavior in the United States: The impact of beliefs, affiliations, and commitment from 1980 to 1994. Public Opinion Quarterly, 288 − 316.\t\t\t\t\t\t \t\t\t\t\t\t\n",
    "2. Sherkat, D. E. (2001). Tracking the restructuring of American religion: Religious affiliation and patterns of religious mobility, 19731998. Social Forces, 79(4), 1459 − 1493.\t\t\t\t\t \t\t\t\t\t\t\t\n",
    "3. Twenge, Jean M., Emodish M. Abebe, and W. Keith Campbell. ”Fitting in or standing Out: Trends in American parents’ choices for childrens names, 18802007.” Social Psychological and Personality Science 1.1 (2010): 19-25.\t\t\t\t"
   ]
  },
  {
   "cell_type": "markdown",
   "metadata": {},
   "source": [
    "# Acknowledgements:\n",
    "We are thankful to Crystal for her constant help and patience throughout this project and to WeiWei, Pavlos and Kevin for all the Data Science knowledge we have.\t\t"
   ]
  }
 ],
 "metadata": {
  "kernelspec": {
   "display_name": "Python [conda root]",
   "language": "python",
   "name": "conda-root-py"
  },
  "language_info": {
   "codemirror_mode": {
    "name": "ipython",
    "version": 2
   },
   "file_extension": ".py",
   "mimetype": "text/x-python",
   "name": "python",
   "nbconvert_exporter": "python",
   "pygments_lexer": "ipython2",
   "version": "2.7.9"
  }
 },
 "nbformat": 4,
 "nbformat_minor": 0
}
