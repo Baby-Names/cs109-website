{
 "cells": [
  {
   "cell_type": "code",
   "execution_count": 133,
   "metadata": {
    "collapsed": false
   },
   "outputs": [],
   "source": [
    "import pandas as pd\n",
    "import numpy as np\n",
    "import matplotlib\n",
    "import matplotlib.pyplot as plt\n",
    "%matplotlib inline\n",
    "import matplotlib.cm as cm\n",
    "import colorlover as cl\n",
    "from IPython.display import HTML\n",
    "from __future__ import print_function\n",
    "from ipywidgets import interact, interactive, fixed\n",
    "import ipywidgets as widgets\n",
    "from IPython.core.display import HTML\n",
    "from IPython.display import display, clear_output\n",
    "from plotly.widgets import GraphWidget\n",
    "from IPython.html.widgets import *\n",
    "import plotly.plotly as py\n",
    "import warnings\n",
    "warnings.filterwarnings('ignore')"
   ]
  },
  {
   "cell_type": "code",
   "execution_count": 139,
   "metadata": {
    "collapsed": true
   },
   "outputs": [],
   "source": [
    "# Learn about API authentication here: https://plot.ly/python/getting-started\n",
    "# Find your api_key here: https://plot.ly/settings/api\n",
    "\n",
    "plotly.tools.set_credentials_file(username='aml2_109', api_key='2wLOEbCMt1PLksWiRKbZ')\n",
    "\n",
    "df = pd.read_csv('data/lasso_predicted.csv', index_col=[0])"
   ]
  },
  {
   "cell_type": "code",
   "execution_count": null,
   "metadata": {
    "collapsed": false
   },
   "outputs": [],
   "source": []
  },
  {
   "cell_type": "code",
   "execution_count": 151,
   "metadata": {
    "collapsed": false
   },
   "outputs": [
    {
     "name": "stdout",
     "output_type": "stream",
     "text": [
      "High five! You successfuly sent some data to your account on plotly. View your plot in your browser at https://plot.ly/~aml2_109/0 or inside your plot.ly account where it is named 'd3-electoral-map'\n"
     ]
    },
    {
     "data": {
      "text/html": [
       "<iframe id=\"igraph\" scrolling=\"no\" style=\"border:none;\" seamless=\"seamless\" src=\"https://plot.ly/~aml2_109/0.embed\" height=\"525px\" width=\"100%\"></iframe>"
      ],
      "text/plain": [
       "<plotly.tools.PlotlyDisplay object>"
      ]
     },
     "execution_count": 151,
     "metadata": {},
     "output_type": "execute_result"
    }
   ],
   "source": [
    "\n",
    "grp = df.groupby('year').get_group(2000)\n",
    "grp['text'] = grp['state'] \n",
    "    \n",
    "data = [dict(\n",
    "    type='choropleth',\n",
    "    colorscale = 'Reds',\n",
    "    autocolorscale = False,\n",
    "    locations = grp['state'],\n",
    "    z = grp['Predicted'].astype(float),\n",
    "    locationmode = 'USA-states',\n",
    "    text = grp['text'],\n",
    "    hoverinfo = 'location+z',\n",
    "    marker = dict(\n",
    "        line = dict (\n",
    "            color = 'rgb(255,255,255)',\n",
    "            width = 2\n",
    "        )\n",
    "        ),\n",
    "        colorbar = dict(\n",
    "            title = \"Percent Republican\"\n",
    "    )\n",
    ")]\n",
    "\n",
    "layout = dict(\n",
    "    title = 'Predicted Percent Vote <br>(Hover for breakdown)',\n",
    "        geo = dict(\n",
    "            scope='usa',\n",
    "            projection=dict( type='albers usa' ),\n",
    "            showlakes = True,\n",
    "            lakecolor = 'rgb(255, 255, 255)',\n",
    "        )\n",
    "    )\n",
    "\n",
    "fig = dict(data=data, layout=layout)\n",
    "\n",
    "py.iplot(fig, validate=False, filename='d3-electoral-map')"
   ]
  }
 ],
 "metadata": {
  "anaconda-cloud": {},
  "kernelspec": {
   "display_name": "Python [conda root]",
   "language": "python",
   "name": "conda-root-py"
  },
  "language_info": {
   "codemirror_mode": {
    "name": "ipython",
    "version": 2
   },
   "file_extension": ".py",
   "mimetype": "text/x-python",
   "name": "python",
   "nbconvert_exporter": "python",
   "pygments_lexer": "ipython2",
   "version": "2.7.9"
  }
 },
 "nbformat": 4,
 "nbformat_minor": 0
}
